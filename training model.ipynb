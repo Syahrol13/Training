{
 "cells": [
  {
   "cell_type": "code",
   "execution_count": 17,
   "metadata": {
    "ExecuteTime": {
     "end_time": "2021-11-18T10:35:39.812198Z",
     "start_time": "2021-11-18T10:35:39.808198Z"
    }
   },
   "outputs": [],
   "source": [
    "import tensorflow as tf\n",
    "import matplotlib.pyplot as plt\n",
    "import cv2\n",
    "import os\n",
    "import numpy as np\n",
    "from tensorflow.keras.preprocessing.image import ImageDataGenerator\n",
    "from tensorflow.keras.optimizers import RMSprop"
   ]
  },
  {
   "cell_type": "code",
   "execution_count": 18,
   "metadata": {
    "ExecuteTime": {
     "end_time": "2021-11-18T10:35:40.570888Z",
     "start_time": "2021-11-18T10:35:40.567886Z"
    }
   },
   "outputs": [],
   "source": [
    "train = ImageDataGenerator(rescale = 1/255)\n",
    "validation = ImageDataGenerator(rescale = 1/255)"
   ]
  },
  {
   "cell_type": "code",
   "execution_count": 19,
   "metadata": {
    "ExecuteTime": {
     "end_time": "2021-11-18T10:35:41.008286Z",
     "start_time": "2021-11-18T10:35:40.897186Z"
    }
   },
   "outputs": [
    {
     "name": "stdout",
     "output_type": "stream",
     "text": [
      "Found 274 images belonging to 2 classes.\n"
     ]
    }
   ],
   "source": [
    "train_dataset = train.flow_from_directory(r\"C:\\Users\\SHAHRUL-PC\\Documents\\GitHub\\Training\\\\data\\train\", \n",
    "                                         target_size = (200,200),\n",
    "                                         batch_size = 3,\n",
    "                                         class_mode = \"binary\")"
   ]
  },
  {
   "cell_type": "code",
   "execution_count": 20,
   "metadata": {
    "ExecuteTime": {
     "end_time": "2021-11-18T10:35:41.436676Z",
     "start_time": "2021-11-18T10:35:41.328577Z"
    }
   },
   "outputs": [
    {
     "name": "stdout",
     "output_type": "stream",
     "text": [
      "Found 60 images belonging to 2 classes.\n"
     ]
    }
   ],
   "source": [
    "validation_dataset = validation.flow_from_directory(r\"C:/Users/SHAHRUL-PC/Documents/GitHub/Training/data/validation/\", \n",
    "                                         target_size = (200,200),\n",
    "                                         batch_size = 3,\n",
    "                                         class_mode = \"binary\")"
   ]
  },
  {
   "cell_type": "code",
   "execution_count": 21,
   "metadata": {
    "ExecuteTime": {
     "end_time": "2021-11-18T10:35:41.813020Z",
     "start_time": "2021-11-18T10:35:41.809015Z"
    }
   },
   "outputs": [
    {
     "data": {
      "text/plain": [
       "{'female': 0, 'male': 1}"
      ]
     },
     "execution_count": 21,
     "metadata": {},
     "output_type": "execute_result"
    }
   ],
   "source": [
    "train_dataset.class_indices"
   ]
  },
  {
   "cell_type": "code",
   "execution_count": 22,
   "metadata": {
    "ExecuteTime": {
     "end_time": "2021-11-18T10:35:42.526667Z",
     "start_time": "2021-11-18T10:35:42.519661Z"
    }
   },
   "outputs": [
    {
     "data": {
      "text/plain": [
       "array([0, 0, 0, 0, 0, 0, 0, 0, 0, 0, 0, 0, 0, 0, 0, 0, 0, 0, 0, 0, 0, 0,\n",
       "       0, 0, 0, 0, 0, 0, 0, 0, 0, 0, 0, 0, 0, 0, 0, 0, 0, 0, 0, 0, 0, 0,\n",
       "       0, 0, 0, 0, 0, 0, 0, 0, 0, 0, 0, 0, 0, 0, 0, 0, 0, 0, 0, 0, 0, 0,\n",
       "       0, 0, 0, 0, 0, 0, 0, 0, 0, 0, 0, 0, 0, 0, 0, 0, 0, 0, 0, 0, 0, 0,\n",
       "       0, 0, 0, 0, 0, 0, 0, 0, 0, 0, 0, 0, 0, 0, 0, 0, 0, 0, 0, 0, 0, 0,\n",
       "       0, 0, 0, 0, 0, 0, 0, 0, 0, 0, 0, 0, 0, 0, 0, 0, 0, 0, 0, 0, 1, 1,\n",
       "       1, 1, 1, 1, 1, 1, 1, 1, 1, 1, 1, 1, 1, 1, 1, 1, 1, 1, 1, 1, 1, 1,\n",
       "       1, 1, 1, 1, 1, 1, 1, 1, 1, 1, 1, 1, 1, 1, 1, 1, 1, 1, 1, 1, 1, 1,\n",
       "       1, 1, 1, 1, 1, 1, 1, 1, 1, 1, 1, 1, 1, 1, 1, 1, 1, 1, 1, 1, 1, 1,\n",
       "       1, 1, 1, 1, 1, 1, 1, 1, 1, 1, 1, 1, 1, 1, 1, 1, 1, 1, 1, 1, 1, 1,\n",
       "       1, 1, 1, 1, 1, 1, 1, 1, 1, 1, 1, 1, 1, 1, 1, 1, 1, 1, 1, 1, 1, 1,\n",
       "       1, 1, 1, 1, 1, 1, 1, 1, 1, 1, 1, 1, 1, 1, 1, 1, 1, 1, 1, 1, 1, 1,\n",
       "       1, 1, 1, 1, 1, 1, 1, 1, 1, 1])"
      ]
     },
     "execution_count": 22,
     "metadata": {},
     "output_type": "execute_result"
    }
   ],
   "source": [
    "train_dataset.classes"
   ]
  },
  {
   "cell_type": "code",
   "execution_count": 23,
   "metadata": {
    "ExecuteTime": {
     "end_time": "2021-11-18T10:35:43.370064Z",
     "start_time": "2021-11-18T10:35:43.223931Z"
    }
   },
   "outputs": [],
   "source": [
    "model = tf.keras.models.Sequential([tf.keras.layers.Conv2D(16,(3,3), activation = 'relu', input_shape = (200,200,3)),\n",
    "                                    tf.keras.layers.MaxPool2D(2,2),\n",
    "                                    \n",
    "                                    tf.keras.layers.Conv2D(32,(3,3), activation = 'relu'),\n",
    "                                    tf.keras.layers.MaxPool2D(2,2),\n",
    "                                    \n",
    "                                    tf.keras.layers.Conv2D(64,(3,3), activation = 'relu'),\n",
    "                                    tf.keras.layers.MaxPool2D(2,2),\n",
    "                                    \n",
    "                                    tf.keras.layers.Flatten(),\n",
    "                                    \n",
    "                                    tf.keras.layers.Dense(512, activation = 'relu'),\n",
    "                                    \n",
    "                                    tf.keras.layers.Dense(1, activation = 'sigmoid'),\n",
    "                                   ])"
   ]
  },
  {
   "cell_type": "code",
   "execution_count": 24,
   "metadata": {
    "ExecuteTime": {
     "end_time": "2021-11-18T10:35:44.885442Z",
     "start_time": "2021-11-18T10:35:44.832395Z"
    }
   },
   "outputs": [],
   "source": [
    "model.compile(loss='binary_crossentropy',\n",
    "              optimizer = RMSprop(lr=0.001),\n",
    "              metrics = ['accuracy'])"
   ]
  },
  {
   "cell_type": "code",
   "execution_count": 26,
   "metadata": {
    "ExecuteTime": {
     "end_time": "2021-11-18T10:39:21.162124Z",
     "start_time": "2021-11-18T10:39:04.946555Z"
    }
   },
   "outputs": [
    {
     "name": "stdout",
     "output_type": "stream",
     "text": [
      "Epoch 1/10\n",
      "3/3 [==============================] - 3s 1s/step - loss: 2.6948 - acc: 0.5556 - val_loss: 0.7033 - val_acc: 0.5000\n",
      "Epoch 2/10\n",
      "3/3 [==============================] - 1s 460ms/step - loss: 0.7229 - acc: 0.4444 - val_loss: 0.7548 - val_acc: 0.5000\n",
      "Epoch 3/10\n",
      "3/3 [==============================] - 1s 464ms/step - loss: 1.4448 - acc: 0.3333 - val_loss: 0.6921 - val_acc: 0.5000\n",
      "Epoch 4/10\n",
      "3/3 [==============================] - 1s 481ms/step - loss: 0.7143 - acc: 0.4444 - val_loss: 0.6902 - val_acc: 0.5000\n",
      "Epoch 5/10\n",
      "3/3 [==============================] - 1s 472ms/step - loss: 0.7012 - acc: 0.3333 - val_loss: 0.6911 - val_acc: 0.5000\n",
      "Epoch 6/10\n",
      "3/3 [==============================] - 1s 473ms/step - loss: 0.6815 - acc: 0.7778 - val_loss: 0.7009 - val_acc: 0.5000\n",
      "Epoch 7/10\n",
      "3/3 [==============================] - 1s 470ms/step - loss: 0.6345 - acc: 0.6667 - val_loss: 0.7545 - val_acc: 0.5000\n",
      "Epoch 8/10\n",
      "3/3 [==============================] - 1s 474ms/step - loss: 0.7049 - acc: 0.5556 - val_loss: 0.7069 - val_acc: 0.5000\n",
      "Epoch 9/10\n",
      "3/3 [==============================] - 1s 473ms/step - loss: 0.7114 - acc: 0.4444 - val_loss: 0.6816 - val_acc: 0.6167\n",
      "Epoch 10/10\n",
      "3/3 [==============================] - 1s 471ms/step - loss: 0.7228 - acc: 0.4444 - val_loss: 0.6965 - val_acc: 0.5000\n"
     ]
    }
   ],
   "source": [
    "model_fit = model.fit_generator(train_dataset, \n",
    "                      steps_per_epoch = 3, \n",
    "                      epochs = 10, \n",
    "                      validation_data = validation_dataset)"
   ]
  },
  {
   "cell_type": "code",
   "execution_count": null,
   "metadata": {},
   "outputs": [],
   "source": []
  }
 ],
 "metadata": {
  "kernelspec": {
   "display_name": "Python 3",
   "language": "python",
   "name": "python3"
  },
  "language_info": {
   "codemirror_mode": {
    "name": "ipython",
    "version": 3
   },
   "file_extension": ".py",
   "mimetype": "text/x-python",
   "name": "python",
   "nbconvert_exporter": "python",
   "pygments_lexer": "ipython3",
   "version": "3.5.5"
  }
 },
 "nbformat": 4,
 "nbformat_minor": 2
}
